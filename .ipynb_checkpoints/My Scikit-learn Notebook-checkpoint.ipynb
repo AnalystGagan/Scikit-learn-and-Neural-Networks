{
 "cells": [
  {
   "cell_type": "markdown",
   "metadata": {},
   "source": [
    "# Sk-learn workflow\n",
    "\n",
    "* end to end sk-learn workflow\n",
    "* Getting your data ready (to be used with ML models) \n",
    "* Choosing a ML model\n",
    "* Fitting a model to data (learing patterns)\n",
    "* Making prediction with model(using patterns)\n",
    "* Evaluating model predictions\n",
    "* Improving model predictions\n",
    "* Saving and loading models "
   ]
  },
  {
   "cell_type": "code",
   "execution_count": null,
   "metadata": {},
   "outputs": [],
   "source": []
  }
 ],
 "metadata": {
  "kernelspec": {
   "display_name": "Python 3",
   "language": "python",
   "name": "python3"
  },
  "language_info": {
   "codemirror_mode": {
    "name": "ipython",
    "version": 3
   },
   "file_extension": ".py",
   "mimetype": "text/x-python",
   "name": "python",
   "nbconvert_exporter": "python",
   "pygments_lexer": "ipython3",
   "version": "3.8.3"
  }
 },
 "nbformat": 4,
 "nbformat_minor": 4
}
