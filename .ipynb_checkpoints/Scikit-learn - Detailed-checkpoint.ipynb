{
 "cells": [
  {
   "cell_type": "markdown",
   "metadata": {},
   "source": [
    "# Introduction to Sklearn "
   ]
  },
  {
   "cell_type": "code",
   "execution_count": 3,
   "metadata": {},
   "outputs": [
    {
     "data": {
      "text/plain": [
       "['0. An end to end sk-learn workflow',\n",
       " '1. Getting your data ready (to be used with ML models)',\n",
       " '2. Choosing a estimator/algo/ML model',\n",
       " '3. Fitting a model/algo to data (learing patterns)',\n",
       " '4. Evaluating model predictions',\n",
       " '5. Improving model predictions',\n",
       " '6. Saving and loading model']"
      ]
     },
     "execution_count": 3,
     "metadata": {},
     "output_type": "execute_result"
    }
   ],
   "source": [
    "#lets list all workflow\n",
    "\n",
    "steps  = [\n",
    "\"0. An end to end sk-learn workflow\",\n",
    "\"1. Getting your data ready (to be used with ML models)\",\n",
    "\"2. Choosing a estimator/algo/ML model\",\n",
    "\"3. Fitting a model/algo to data (learing patterns)\",\n",
    "\"4. Evaluating model predictions\",\n",
    "\"5. Improving model predictions\",\n",
    "\"6. Saving and loading model\"\n",
    "]\n",
    "steps"
   ]
  },
  {
   "cell_type": "code",
   "execution_count": 4,
   "metadata": {},
   "outputs": [],
   "source": [
    "#standard imports \n",
    "import numpy as np \n",
    "import pandas as pd\n",
    "import matplotlib.pyplot as plt \n",
    "%matplotlib inline"
   ]
  },
  {
   "cell_type": "code",
   "execution_count": null,
   "metadata": {},
   "outputs": [],
   "source": [
    "# 1.  Getting your data ready (to be used with ML models)\n"
   ]
  }
 ],
 "metadata": {
  "kernelspec": {
   "display_name": "Python 3",
   "language": "python",
   "name": "python3"
  },
  "language_info": {
   "codemirror_mode": {
    "name": "ipython",
    "version": 3
   },
   "file_extension": ".py",
   "mimetype": "text/x-python",
   "name": "python",
   "nbconvert_exporter": "python",
   "pygments_lexer": "ipython3",
   "version": "3.8.3"
  }
 },
 "nbformat": 4,
 "nbformat_minor": 4
}
